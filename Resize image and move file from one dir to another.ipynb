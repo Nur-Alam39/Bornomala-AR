{
 "cells": [
  {
   "cell_type": "code",
   "execution_count": 1,
   "metadata": {},
   "outputs": [],
   "source": [
    "import os\n",
    "import pandas as pd\n",
    "import sys\n",
    "# from PIL import Image\n",
    "from PIL import ImageFile\n",
    "ImageFile.LOAD_TRUNCATED_IMAGES = True\n",
    "from skimage import io\n",
    "from skimage.transform import resize\n",
    "import numpy as np\n",
    "\n",
    "\n",
    "def create_directory(directory):\n",
    "    if not os.path.exists(directory):\n",
    "        os.makedirs(directory)\n",
    "\n",
    "\n",
    "def move_image(path, new_path):\n",
    "    create_directory(new_path)\n",
    "    trainLabels = pd.read_csv(\"H:/Thesis/[4-2]/Dataset/trainLabels.csv\")\n",
    "    trainLabels['image'] = trainLabels['image'].str.rstrip('.jpeg')\n",
    "    trainLabels_3 = trainLabels[trainLabels['level'] == 4]\n",
    "    lst_imgs_3 = [i for i in trainLabels_3['image']]\n",
    "    total = 0\n",
    "\n",
    "    for item in lst_imgs_3:\n",
    "        img = io.imread(path+item+\".jpeg\")\n",
    "        io.imsave(str(new_path + item+\".jpeg\"), img)\n",
    "        total += 1\n",
    "        os.remove(path+item+\".jpeg\")\n",
    "        print(\"Moved and Deleted: \", item, total)\n",
    "\n",
    "\n",
    "if __name__ == '__main__':\n",
    "    move_image(path='H:/Thesis/[4-2]/Dataset/train/', new_path='H:/Thesis/[4-2]/Dataset/train/four/')"
   ]
  },
  {
   "cell_type": "code",
   "execution_count": null,
   "metadata": {},
   "outputs": [],
   "source": []
  }
 ],
 "metadata": {
  "kernelspec": {
   "display_name": "Python 3",
   "language": "python",
   "name": "python3"
  },
  "language_info": {
   "codemirror_mode": {
    "name": "ipython",
    "version": 3
   },
   "file_extension": ".py",
   "mimetype": "text/x-python",
   "name": "python",
   "nbconvert_exporter": "python",
   "pygments_lexer": "ipython3",
   "version": "3.6.5"
  }
 },
 "nbformat": 4,
 "nbformat_minor": 2
}
