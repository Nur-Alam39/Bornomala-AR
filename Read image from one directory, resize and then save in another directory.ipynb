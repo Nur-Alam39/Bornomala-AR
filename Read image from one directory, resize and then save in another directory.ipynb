{
 "cells": [
  {
   "cell_type": "code",
   "execution_count": 4,
   "metadata": {},
   "outputs": [
    {
     "name": "stderr",
     "output_type": "stream",
     "text": [
      "C:\\Users\\Nur-E-Alam Jony\\Anaconda3\\lib\\site-packages\\skimage\\transform\\_warps.py:84: UserWarning: The default mode, 'constant', will be changed to 'reflect' in skimage 0.15.\n",
      "  warn(\"The default mode, 'constant', will be changed to 'reflect' in \"\n",
      "C:\\Users\\Nur-E-Alam Jony\\Anaconda3\\lib\\site-packages\\skimage\\util\\dtype.py:122: UserWarning: Possible precision loss when converting from float64 to uint8\n",
      "  .format(dtypeobj_in, dtypeobj_out))\n"
     ]
    },
    {
     "name": "stdout",
     "output_type": "stream",
     "text": [
      "Saving:  101_right.jpeg 1\n",
      "Saving:  14_left.jpeg 2\n",
      "Saving:  2493_left.jpeg 3\n",
      "Saving:  24_right.jpeg 4\n",
      "Saving:  2504_right.jpeg 5\n",
      "Saving:  2510_left.jpeg 6\n",
      "Saving:  14_left.jpeg 1\n",
      "Saving:  16472_left.jpeg 2\n",
      "Saving:  16531_left.jpeg 3\n",
      "Saving:  24_right.jpeg 4\n",
      "Saving:  29202_right.jpeg 5\n",
      "Saving:  34627_left.jpeg 6\n",
      "Saving:  34_right.jpeg 7\n"
     ]
    }
   ],
   "source": [
    "#Read image from one directory, resize and then save in another directory\n",
    "import os\n",
    "import sys\n",
    "# from PIL import Image\n",
    "from PIL import ImageFile\n",
    "ImageFile.LOAD_TRUNCATED_IMAGES = True\n",
    "from skimage import io\n",
    "from skimage.transform import resize\n",
    "import numpy as np\n",
    "\n",
    "\n",
    "def create_directory(directory):\n",
    "    '''\n",
    "    Creates a new folder in the specified directory if the folder doesn't exist.\n",
    "    INPUT\n",
    "        directory: Folder to be created, called as \"folder/\".\n",
    "    OUTPUT\n",
    "        New folder in the current directory.\n",
    "    '''\n",
    "    if not os.path.exists(directory):\n",
    "        os.makedirs(directory)\n",
    "\n",
    "\n",
    "def crop_and_resize_images(path, new_path, cropx, cropy, img_size=256):\n",
    "    '''\n",
    "    Crops, resizes, and stores all images from a directory in a new directory.\n",
    "    INPUT\n",
    "        path: Path where the current, unscaled images are contained.\n",
    "        new_path: Path to save the resized images.\n",
    "        img_size: New size for the rescaled images.\n",
    "    OUTPUT\n",
    "        All images cropped, resized, and saved from the old folder to the new folder.\n",
    "    '''\n",
    "    create_directory(new_path)\n",
    "    dirs = [l for l in os.listdir(path) if l != '.DS_Store']\n",
    "    total = 0\n",
    "\n",
    "    for item in dirs:\n",
    "        img = io.imread(path+item)\n",
    "        y,x,channel = img.shape\n",
    "        startx = x//2-(cropx//2)\n",
    "        starty = y//2-(cropy//2)\n",
    "        img = img[starty:starty+cropy,startx:startx+cropx]\n",
    "        img = resize(img, (256,256))\n",
    "        io.imsave(str(new_path + item), img)\n",
    "        total += 1\n",
    "        print(\"Saving: \", item, total)\n",
    "\n",
    "\n",
    "if __name__ == '__main__':\n",
    "    crop_and_resize_images(path='H:/Thesis/[4-2]/Dataset/For sample test/train/', new_path='H:/Thesis/[4-2]/Dataset/For sample test/train-resized-256/', cropx=1800, cropy=1800, img_size=256)\n",
    "    crop_and_resize_images(path='H:/Thesis/[4-2]/Dataset/For sample test/test/', new_path='H:/Thesis/[4-2]/Dataset/For sample test/test-resized-256/', cropx=1800, cropy=1800, img_size=256)"
   ]
  },
  {
   "cell_type": "code",
   "execution_count": null,
   "metadata": {},
   "outputs": [],
   "source": []
  }
 ],
 "metadata": {
  "kernelspec": {
   "display_name": "Python 3",
   "language": "python",
   "name": "python3"
  },
  "language_info": {
   "codemirror_mode": {
    "name": "ipython",
    "version": 3
   },
   "file_extension": ".py",
   "mimetype": "text/x-python",
   "name": "python",
   "nbconvert_exporter": "python",
   "pygments_lexer": "ipython3",
   "version": "3.6.5"
  }
 },
 "nbformat": 4,
 "nbformat_minor": 2
}
